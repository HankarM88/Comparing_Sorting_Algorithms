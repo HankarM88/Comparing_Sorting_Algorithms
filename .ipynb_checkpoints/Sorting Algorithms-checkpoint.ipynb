{
 "cells": [
  {
   "cell_type": "markdown",
   "metadata": {},
   "source": [
    "### Comparing Sorting Algorithms \n",
    "* Sorting is a basic building block that many other algorithms are built upon. It’s related to several exciting ideas that you’ll see throughout your programming career. Understanding how sorting algorithms in Python work behind the scenes is a fundamental step toward implementing correct and efficient algorithms that solve real-world problems.\n",
    "* We will see how the built-in sort functionality works under the hood. \n",
    "* In this Notebook we will gor through some sorting algorithms in Python, and we will try compute  time complexity for each algorithm.\n",
    "* In the end we will compare all these algorithms to see wich one is faster than the other, and which one is peferable to use to save some processing time. "
   ]
  },
  {
   "cell_type": "code",
   "execution_count": 4,
   "metadata": {},
   "outputs": [],
   "source": [
    "import numpy as np \n",
    "from random import randint\n",
    "from timeit import repeat"
   ]
  },
  {
   "cell_type": "code",
   "execution_count": 35,
   "metadata": {},
   "outputs": [],
   "source": [
    "\n",
    "#define a function that takes the sortiing algorithm name and the array \n",
    "# to be sorted and return the timing complexity of it. this will help us to compare the algorithms \n",
    "# based on execution time(i.e: complexity time)\n",
    "def evaluate(algorithm, array):\n",
    "    # Set up the context and prepare the call to the specified\n",
    "    # algorithm using the supplied array. Only import the\n",
    "    # algorithm function if it's not the built-in `sorted()`.\n",
    "    setup_code = f\"from __main__ import {algorithm}\" \\\n",
    "        if algorithm != \"sorted\" else \"\"\n",
    "\n",
    "    stmt = f\"{algorithm}({array})\"\n",
    "\n",
    "    # Execute the code ten different times and return the time\n",
    "    # in seconds that each execution took\n",
    "    time = min(repeat(setup=setup_code, stmt=stmt, repeat=3, number=10))\n",
    "\n",
    "    # Finally, display the name of the algorithm and the\n",
    "    # minimum time it took to run\n",
    "    return str(algorithm),time"
   ]
  },
  {
   "cell_type": "code",
   "execution_count": 36,
   "metadata": {},
   "outputs": [
    {
     "name": "stdout",
     "output_type": "stream",
     "text": [
      "Soring Algorithm Name: sorted\n",
      "\n",
      "Execution Time: 0.001917500005220063\n"
     ]
    }
   ],
   "source": [
    "# Generate an array of 1000 items consisting of random integer values between 0 and 100\n",
    "array = [randint(0, 100) for i in range(1000)]\n",
    "\n",
    "# Call the function using the name of the sorting algorithm and the array you just created\n",
    "#  here we are testing the built-in \"sorted\" function \n",
    "algo,time=evaluate(algorithm=\"sorted\", array=array)\n",
    "print(f'Soring Algorithm Name: {algo}')\n",
    "print()\n",
    "print(f'Execution Time: {time}')"
   ]
  },
  {
   "cell_type": "markdown",
   "metadata": {},
   "source": [
    "### Defining the sorting Algorithms "
   ]
  },
  {
   "cell_type": "markdown",
   "metadata": {},
   "source": [
    "#### Bubble Sorting"
   ]
  },
  {
   "cell_type": "markdown",
   "metadata": {},
   "source": [
    "* Bubble Sort is one of the most straightforward sorting algorithms. Its name comes from the way the algorithm works: With every new pass, the largest element in the list “bubbles up” toward its correct position.\n",
    "\n",
    "* Bubble sort consists of making multiple passes through a list, comparing elements one by one, and swapping adjacent items that are out of order.\n",
    "* The Algorithm sorts the array in ascending order, each step “bubbles” the largest element to the end of the array. This means that each iteration takes fewer steps than the previous iteration because a continuously larger portion of the array is sorted."
   ]
  },
  {
   "cell_type": "code",
   "execution_count": 20,
   "metadata": {},
   "outputs": [
    {
     "name": "stdout",
     "output_type": "stream",
     "text": [
      "[3, 9, 11, 12, 20]\n"
     ]
    }
   ],
   "source": [
    "def bubble_sort(array):\n",
    "    # We set swapped to True so the loop looks runs at least once\n",
    "    size=len(array)\n",
    "    swapped = True\n",
    "    while swapped:\n",
    "        swapped = False\n",
    "        for i in range(size- 1):\n",
    "            if array[i] > array[i + 1]:\n",
    "                # Swap the elements\n",
    "                array[i], array[i + 1] = array[i + 1], array[i]\n",
    "                # Set the flag to True so we'll loop again\n",
    "                swapped = True\n",
    "        \n",
    "    return array\n",
    "\n",
    "# Verify \n",
    "nums = np.array([5, 2, 1, 8, 4])\n",
    "a= bubble_sort(random_list_of_nums)\n",
    "print(a)"
   ]
  },
  {
   "cell_type": "markdown",
   "metadata": {},
   "source": [
    "#### Selection Sort"
   ]
  },
  {
   "cell_type": "markdown",
   "metadata": {},
   "source": [
    "* Selection sort is a simple sorting algorithm. This sorting algorithm is an in-place comparison-based algorithm in which the list is divided into two parts, the sorted part at the left end and the unsorted part at the right end. Initially, the sorted part is empty and the unsorted part is the entire list.\n",
    "\n",
    "* The smallest element is selected from the unsorted array and swapped with the leftmost element, and that element becomes a part of the sorted array. This process continues moving unsorted array boundary by one element to the right."
   ]
  },
  {
   "cell_type": "code",
   "execution_count": 19,
   "metadata": {},
   "outputs": [
    {
     "name": "stdout",
     "output_type": "stream",
     "text": [
      "[3, 9, 11, 12, 20]\n"
     ]
    }
   ],
   "source": [
    "def selection_sort(array):\n",
    "    size=len(array)\n",
    "    # This value of i corresponds to how many values were sorted\n",
    "    for i in range(size):\n",
    "        # We assume that the first item of the unsorted segment is the smallest.\n",
    "        # we put the index in temporary variable\n",
    "        temp = i\n",
    "        # This loop iterates over the unsorted items\n",
    "        for j in range(i + 1, len(array)):\n",
    "            if array[j] < array[temp]:\n",
    "                temp = j\n",
    "        # Swap values of the lowest unsorted element with the first unsorted element\n",
    "        array[i], array[temp] = array[temp], array[i]\n",
    "        \n",
    "    return array\n",
    "\n",
    "\n",
    "# Verify the algorithm\n",
    "nums =np.array([12, 9, 3, 20, 11]) \n",
    "b=selection_sort(random_list_of_nums)\n",
    "print(b)"
   ]
  },
  {
   "cell_type": "markdown",
   "metadata": {},
   "source": [
    "#### Insertion Sort"
   ]
  },
  {
   "cell_type": "markdown",
   "metadata": {},
   "source": [
    "* The insertion sort algorithm is straightforward to implement and understand. But unlike bubble sort, it builds the sorted list one element at a time by comparing each item with the rest of the list and inserting it into its correct position. This “insertion” procedure gives the algorithm its name.\n",
    "* An excellent analogy to explain insertion sort is the way you would sort a deck of cards. Imagine that you’re holding a group of cards in your hands, and you want to arrange them in order. You’d start by comparing a single card step by step with the rest of the cards until you find its correct position. At that point, you’d insert the card in the correct location and start over with a new card, repeating until all the cards in your hand were sorted."
   ]
  },
  {
   "cell_type": "code",
   "execution_count": 3,
   "metadata": {},
   "outputs": [
    {
     "name": "stdout",
     "output_type": "stream",
     "text": [
      "[1, 6, 9, 15, 28]\n"
     ]
    }
   ],
   "source": [
    "def insertion_sort(array):\n",
    "    size=len(array)\n",
    "    # Start on the second element as we assume the first element is sorted\n",
    "    for i in range(1, size):\n",
    "        to_insert = array[i]\n",
    "        # And keep a reference of the index of the previous element\n",
    "        j = i - 1\n",
    "        # Move all items of the sorted segment forward if they are larger than\n",
    "        # the item to insert\n",
    "        while j >= 0 and array[j] > to_insert:\n",
    "            array[j + 1] = array[j]\n",
    "            j -= 1\n",
    "        # Insert the item\n",
    "        array[j + 1] = to_insert\n",
    "                   \n",
    "    return array\n",
    "\n",
    "\n",
    "# a little test\n",
    "nums = np.array([9, 1, 15, 28, 6])\n",
    "c=insertion_sort(random_list_of_nums)\n",
    "print(c)"
   ]
  },
  {
   "cell_type": "markdown",
   "metadata": {},
   "source": [
    "#### Merge Sort"
   ]
  },
  {
   "cell_type": "markdown",
   "metadata": {},
   "source": [
    "* Merge sort is a very efficient sorting algorithm. It’s based on the divide-and-conquer approach, a powerful algorithmic technique used to solve complex problems. \n",
    "\n",
    "* To properly understand divide and conquer, you should first understand the concept of recursion.\n",
    "* Recursion involves breaking a problem down into smaller subproblems until they’re small enough to manage. In programming, recursion is usually expressed by a function calling itself.\n",
    "##### Divide-and-conquer algorithms typically follow the same structure:\n",
    "\n",
    "* 1.The original input is broken into several parts, each one representing a subproblem that’s similar to the original but simpler.<br>\n",
    "* 2.Each subproblem is solved recursively.<br>\n",
    "* 3.The solutions to all the subproblems are combined into a single overall solution."
   ]
  },
  {
   "cell_type": "code",
   "execution_count": 27,
   "metadata": {},
   "outputs": [
    {
     "name": "stdout",
     "output_type": "stream",
     "text": [
      "[45, 68, 120, 176, 201, 250]\n"
     ]
    }
   ],
   "source": [
    "#To Implement  the merge sort algorithm needs two different pieces:\n",
    "\n",
    "#A function that recursively splits the input in half\n",
    "#A function that merges both halves, producing a sorted array\n",
    "def merge(left, right):\n",
    "    # If the first array is empty, then nothing needs\n",
    "    # to be merged, and you can return the second array as the result\n",
    "    if len(left) == 0:\n",
    "        return right\n",
    "\n",
    "    # If the second array is empty, then nothing needs\n",
    "    # to be merged, and you can return the first array as the result\n",
    "    if len(right) == 0:\n",
    "        return left\n",
    "\n",
    "    result = []\n",
    "    index_left = index_right = 0\n",
    "\n",
    "    # Now go through both arrays until all the elements\n",
    "    # make it into the resultant array\n",
    "    while len(result) < len(left) + len(right):\n",
    "        # The elements need to be sorted to add them to the\n",
    "        # resultant array, so you need to decide whether to get\n",
    "        # the next element from the first or the second array\n",
    "        if left[index_left] <= right[index_right]:\n",
    "            result.append(left[index_left])\n",
    "            index_left += 1\n",
    "        else:\n",
    "            result.append(right[index_right])\n",
    "            index_right += 1\n",
    "\n",
    "        # If you reach the end of either array, then you can\n",
    "        # add the remaining elements from the other array to\n",
    "        # the result and break the loop\n",
    "        if index_right == len(right):\n",
    "            result+=left[index_left:]\n",
    "            break\n",
    "\n",
    "        if index_left == len(left):\n",
    "            result+=right[index_right:]\n",
    "            break\n",
    "\n",
    "    return result\n",
    "\n",
    "#define the merge sort algorithm \n",
    "def merge_sort(array):\n",
    "    # If the input array contains fewer than two elements,\n",
    "    # then return it as the result of the function\n",
    "    if len(array) < 2:\n",
    "        return array\n",
    "\n",
    "    mid = len(array) // 2\n",
    "\n",
    "    # Sort the array by recursively splitting the input\n",
    "    # into two equal halves, sorting each half and merging them\n",
    "    # together into the final result\n",
    "    return merge(left=merge_sort(array[:mid]),right=merge_sort(array[mid:]))\n",
    "\n",
    "#test the algorithm\n",
    "nums =[120, 45, 68, 250, 176,201]\n",
    "print(merge_sort(nums))"
   ]
  },
  {
   "cell_type": "markdown",
   "metadata": {},
   "source": [
    "### Quick Sort"
   ]
  },
  {
   "cell_type": "markdown",
   "metadata": {},
   "source": [
    "* the quicksort algorithm applies the divide-and-conquer principle to divide the input array into two lists, the first with small items and the second with large items. The algorithm then sorts both lists recursively until the resultant list is completely sorted.\n",
    "\n",
    "* Dividing the input list is referred to as partitioning the list. Quicksort first selects a pivot element and partitions the list around the pivot, putting every smaller element into a low array and every larger element into a high array.\n",
    "\n",
    "* Putting every element from the low list to the left of the pivot and every element from the high list to the right positions the pivot precisely where it needs to be in the final sorted list. This means that the function can now recursively apply the same procedure to low and then high until the entire list is sorted."
   ]
  },
  {
   "cell_type": "code",
   "execution_count": 30,
   "metadata": {},
   "outputs": [
    {
     "name": "stdout",
     "output_type": "stream",
     "text": [
      "[8, 12, 45, 56, 78, 89]\n"
     ]
    }
   ],
   "source": [
    "def quick_sort(array):\n",
    "    # If the input array contains fewer than two elements,\n",
    "    # then return it as the result of the function\n",
    "    if len(array) < 2:\n",
    "        return array\n",
    "\n",
    "    low, same, high = [], [], []\n",
    "\n",
    "    # Select your `pivot` element randomly\n",
    "    pivot = array[randint(0, len(array) - 1)]\n",
    "\n",
    "    for item in array:\n",
    "        # Elements that are smaller than the `pivot` go to\n",
    "        # the `low` list. Elements that are larger than\n",
    "        # `pivot` go to the `high` list. Elements that are\n",
    "        # equal to `pivot` go to the `same` list.\n",
    "        if item < pivot:\n",
    "            low.append(item)\n",
    "        elif item == pivot:\n",
    "            same.append(item)\n",
    "        elif item > pivot:\n",
    "            high.append(item)\n",
    "\n",
    "    # The final result combines the sorted `low` list\n",
    "    # with the `same` list and the sorted `high` list\n",
    "    return quicksort(low) + same + quicksort(high)\n",
    "#testing \n",
    "d = np.array([12,8,56,89,45,78])\n",
    "print(quick_sort(d))"
   ]
  },
  {
   "cell_type": "markdown",
   "metadata": {},
   "source": [
    "### Comparing the Sorting Algorithms "
   ]
  },
  {
   "cell_type": "code",
   "execution_count": 42,
   "metadata": {},
   "outputs": [
    {
     "name": "stdout",
     "output_type": "stream",
     "text": [
      "****___****\n",
      "__Performance__ \n",
      "Soring Algorithm Name: bubble_sort\n",
      "\n",
      "Execution Time: 2.8230930999998236\n",
      "****___****\n",
      "__Performance__ \n",
      "Soring Algorithm Name: selection_sort\n",
      "\n",
      "Execution Time: 0.7674321999948006\n",
      "****___****\n",
      "__Performance__ \n",
      "Soring Algorithm Name: insertion_sort\n",
      "\n",
      "Execution Time: 0.8337289999908535\n",
      "****___****\n",
      "__Performance__ \n",
      "Soring Algorithm Name: merge_sort\n",
      "\n",
      "Execution Time: 0.11551170000166167\n",
      "****___****\n",
      "__Performance__ \n",
      "Soring Algorithm Name: quick_sort\n",
      "\n",
      "Execution Time: 0.045390999992378056\n"
     ]
    }
   ],
   "source": [
    "if __name__ == \"__main__\":\n",
    "    size=1000\n",
    "    performances={}\n",
    "    array = [randint(0, 1000) for i in range(size)]\n",
    "\n",
    "    #define a list of algorthims to test \n",
    "    sorting_algorithms=['bubble_sort','selection_sort','insertion_sort','merge_sort','quick_sort']\n",
    "    for algorithm in sorting_algorithms:\n",
    "        print('****___****')\n",
    "        print(f'__Performance__ ')\n",
    "        _,time = evaluate(algorithm=algorithm, array=array)\n",
    "        performances[algorithm]=time\n",
    "        print(f'Soring Algorithm Name: {algorithm}')\n",
    "        print()\n",
    "        print(f'Execution Time: {time}')"
   ]
  },
  {
   "cell_type": "code",
   "execution_count": 43,
   "metadata": {},
   "outputs": [
    {
     "name": "stdout",
     "output_type": "stream",
     "text": [
      "{'bubble_sort': 2.8230930999998236, 'selection_sort': 0.7674321999948006, 'insertion_sort': 0.8337289999908535, 'merge_sort': 0.11551170000166167, 'quick_sort': 0.045390999992378056}\n"
     ]
    }
   ],
   "source": [
    "print(performances)"
   ]
  }
 ],
 "metadata": {
  "kernelspec": {
   "display_name": "Python 3",
   "language": "python",
   "name": "python3"
  },
  "language_info": {
   "codemirror_mode": {
    "name": "ipython",
    "version": 3
   },
   "file_extension": ".py",
   "mimetype": "text/x-python",
   "name": "python",
   "nbconvert_exporter": "python",
   "pygments_lexer": "ipython3",
   "version": "3.7.6"
  }
 },
 "nbformat": 4,
 "nbformat_minor": 4
}
